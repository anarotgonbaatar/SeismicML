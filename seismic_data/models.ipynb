{
 "cells": [
  {
   "cell_type": "code",
   "execution_count": 8,
   "metadata": {},
   "outputs": [],
   "source": [
    "# Import libs\n",
    "import pandas\n",
    "import pickle\n",
    "from sklearn.model_selection import train_test_split\n",
    "from sklearn.linear_model import LinearRegression\n",
    "from sklearn.feature_selection import SelectKBest, f_regression\n",
    "\n",
    "# Load the preprocessed dataset\n",
    "data = pandas.read_csv('preprocessed_data.csv')\n",
    "\n",
    "# Input features and target\n",
    "x = data[[ 'latitude', 'longitude', 'year', 'month', 'day', 'hour', 'minute', 'nst', 'gap', 'dmin','rms','horizontalError','depthError','magError','magNst' ]]\n",
    "y = data[ 'mag' ]\n",
    "\n",
    "# Split inot training and testing datasets\n",
    "xtrain, xtest, ytrain, ytest = train_test_split( x, y, test_size = 0.2, random_state = 42 )"
   ]
  },
  {
   "cell_type": "markdown",
   "metadata": {},
   "source": [
    "## Model 1: Train on all features"
   ]
  },
  {
   "cell_type": "code",
   "execution_count": 9,
   "metadata": {},
   "outputs": [
    {
     "name": "stdout",
     "output_type": "stream",
     "text": [
      "Full model score:  0.07208182622215475\n"
     ]
    }
   ],
   "source": [
    "full_model = LinearRegression()\n",
    "full_model.fit( xtrain, ytrain )\n",
    "\n",
    "# Save the full model\n",
    "with open( 'full_model.model', 'wb' ) as f:\n",
    "\tpickle.dump( full_model, f )\n",
    "\n",
    "# load the model from disk and score\n",
    "loaded_model = pickle.load( open( 'full_model.model', 'rb' ) )\n",
    "result = loaded_model.score( xtest, ytest )\n",
    "print( \"Full model score: \", result )"
   ]
  },
  {
   "cell_type": "markdown",
   "metadata": {},
   "source": [
    "## Model 2: Train on Reduced Features"
   ]
  },
  {
   "cell_type": "code",
   "execution_count": 10,
   "metadata": {},
   "outputs": [
    {
     "name": "stdout",
     "output_type": "stream",
     "text": [
      "Selected features: ['year', 'rms', 'depthError', 'magNst']\n",
      "Reduced model score:  0.054626061332937126\n"
     ]
    }
   ],
   "source": [
    "selector = SelectKBest( score_func = f_regression, k = 4 )\n",
    "xtrain_reduced = selector.fit_transform( xtrain, ytrain )\n",
    "xtest_reduced = selector.transform( xtest )\n",
    "\n",
    "# Get and print selected features\n",
    "selected_features = x.columns[ selector.get_support() ].tolist()\n",
    "print( \"Selected features:\", selected_features )\n",
    "\n",
    "# Train reduced model\n",
    "reduced_model = LinearRegression()\n",
    "reduced_model.fit( xtrain_reduced, ytrain )\n",
    "\n",
    "# Save the reduced model\n",
    "with open( 'reduced_model.model', 'wb' ) as f:\n",
    "\tpickle.dump( reduced_model, f )\n",
    "\n",
    "# Load the reduced model and score\n",
    "loaded_reduced_model = pickle.load( open( 'reduced_model.model', 'rb' ) )\n",
    "result = loaded_reduced_model.score( xtest_reduced, ytest )\n",
    "print( \"Reduced model score: \", result )"
   ]
  }
 ],
 "metadata": {
  "kernelspec": {
   "display_name": "Python 3",
   "language": "python",
   "name": "python3"
  },
  "language_info": {
   "codemirror_mode": {
    "name": "ipython",
    "version": 3
   },
   "file_extension": ".py",
   "mimetype": "text/x-python",
   "name": "python",
   "nbconvert_exporter": "python",
   "pygments_lexer": "ipython3",
   "version": "3.12.8"
  }
 },
 "nbformat": 4,
 "nbformat_minor": 2
}
