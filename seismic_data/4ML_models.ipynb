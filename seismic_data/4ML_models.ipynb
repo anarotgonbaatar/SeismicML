{
 "cells": [
  {
   "cell_type": "markdown",
   "metadata": {},
   "source": [
    "# 4 or more ML Classifiers\n",
    "The following ML techniques will be implemented:\n",
    "1. Decision trees\n",
    "2. Random forest\n",
    "3. \n",
    "4. \n",
    "\n",
    "## Data Setup"
   ]
  },
  {
   "cell_type": "code",
   "execution_count": 4,
   "metadata": {},
   "outputs": [],
   "source": [
    "# Libraries\n",
    "import pandas\n",
    "import pickle\n",
    "from sklearn.model_selection import train_test_split\n",
    "from sklearn.tree import DecisionTreeRegressor\n",
    "from sklearn.ensemble import RandomForestRegressor\n",
    "\n",
    "# Load preprocessed data\n",
    "data = pandas.read_csv('preprocessed_data.csv')\n",
    "\n",
    "# Input features and target\n",
    "x = data[[ 'latitude', 'longitude', 'year', 'month', 'day', 'hour', 'minute', 'nst', 'gap', 'dmin','rms','horizontalError','depthError','magError','magNst' ]]\n",
    "y = data[ 'mag' ]\n",
    "\n",
    "# Split inot training and testing datasets\n",
    "xtrain, xtest, ytrain, ytest = train_test_split( x, y, test_size = 0.2, random_state = 42 )"
   ]
  },
  {
   "cell_type": "markdown",
   "metadata": {},
   "source": [
    "## Model 1: Decision Tree Regression"
   ]
  },
  {
   "cell_type": "code",
   "execution_count": 5,
   "metadata": {},
   "outputs": [
    {
     "name": "stdout",
     "output_type": "stream",
     "text": [
      "Decision tree model score: 0.037172462938834694\n"
     ]
    }
   ],
   "source": [
    "decision_tree = DecisionTreeRegressor( random_state = 42 )\n",
    "decision_tree.fit( xtrain, ytrain )\n",
    "\n",
    "with open('decision_tree.model', 'wb') as f:\n",
    "\tpickle.dump( decision_tree, f )\n",
    "\n",
    "loaded_model = pickle.load( open('decision_tree.model', 'rb') )\n",
    "print(\"Decision tree model score:\", loaded_model.score( xtest, ytest ))"
   ]
  },
  {
   "cell_type": "markdown",
   "metadata": {},
   "source": [
    "## Model 2: Random Forest Regression"
   ]
  },
  {
   "cell_type": "code",
   "execution_count": null,
   "metadata": {},
   "outputs": [],
   "source": [
    "random_forest = RandomForestRegressor( n_estimators = 100, random_state = 42 )\n",
    "random_forest.fit( xtrain, ytrain )\n",
    "\n",
    "with open('random_forest.model', 'wb') as f:\n",
    "\tpickle.dump( random_forest, f )\n",
    "\n",
    "loaded_model = pickle.load( open('random_forest.model', 'rb') )\n",
    "print(\"Random forest model score:\", loaded_model.score( xtest, ytest ))"
   ]
  }
 ],
 "metadata": {
  "kernelspec": {
   "display_name": "Python 3",
   "language": "python",
   "name": "python3"
  },
  "language_info": {
   "codemirror_mode": {
    "name": "ipython",
    "version": 3
   },
   "file_extension": ".py",
   "mimetype": "text/x-python",
   "name": "python",
   "nbconvert_exporter": "python",
   "pygments_lexer": "ipython3",
   "version": "3.12.8"
  }
 },
 "nbformat": 4,
 "nbformat_minor": 2
}
