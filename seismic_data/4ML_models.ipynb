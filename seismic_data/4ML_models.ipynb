{
 "cells": [
  {
   "cell_type": "markdown",
   "metadata": {},
   "source": [
    "# 4 or more ML Classifiers\n",
    "The following ML techniques will be implemented:\n",
    "1. Decision trees\n",
    "2. Random forest\n",
    "3. Gradient Boosting\n",
    "4. Bagging\n",
    "\n",
    "## Data Setup"
   ]
  },
  {
   "cell_type": "code",
   "execution_count": 51,
   "metadata": {},
   "outputs": [
    {
     "name": "stdout",
     "output_type": "stream",
     "text": [
      "Dataset read.\n",
      "Features saved.\n",
      "Data split.\n"
     ]
    }
   ],
   "source": [
    "# Libraries\n",
    "import pandas\n",
    "import pickle\n",
    "from sklearn.model_selection import train_test_split\n",
    "from sklearn.linear_model import LinearRegression\n",
    "from sklearn.tree import DecisionTreeRegressor\n",
    "from sklearn.ensemble import RandomForestRegressor\n",
    "from sklearn.ensemble import HistGradientBoostingRegressor\n",
    "from sklearn.ensemble import BaggingRegressor\n",
    "\n",
    "# Load preprocessed data\n",
    "data = pandas.read_csv('preprocessed_data.csv')\n",
    "print(\"Dataset read.\")\n",
    "\n",
    "# Input features and target\n",
    "x = data[[ \t'latitude', 'longitude', # Location\n",
    "\t\t  \t'year', 'month', 'day', 'hour', # Time; Removing 'minute' increased scores slightly\n",
    "\t\t\t'nst', 'gap', 'dmin', 'rms', 'horizontalError', 'depthError', 'magNst' # Quality\n",
    "\t\t]]\n",
    "y = data[ 'mag' ]\n",
    "print(\"Features saved.\")\n",
    "\n",
    "# Split inot training and testing datasets\n",
    "xtrain, xtest, ytrain, ytest = train_test_split( x, y, test_size = 0.2, random_state = 42 )\n",
    "print(\"Data split.\")"
   ]
  },
  {
   "cell_type": "markdown",
   "metadata": {},
   "source": [
    "## Model 1: Linear Regression"
   ]
  },
  {
   "cell_type": "code",
   "execution_count": 52,
   "metadata": {},
   "outputs": [
    {
     "name": "stdout",
     "output_type": "stream",
     "text": [
      "Linear model score: 0.06552262168577538\n"
     ]
    }
   ],
   "source": [
    "linear = LinearRegression()\n",
    "linear.fit( xtrain, ytrain )\n",
    "\n",
    "with open('linear.model', 'wb') as f:\n",
    "\tpickle.dump( linear, f )\n",
    "\n",
    "loaded_model = pickle.load( open('linear.model', 'rb') )\n",
    "score_linear = loaded_model.score( xtest, ytest )\n",
    "print(\"Linear model score:\", score_linear )"
   ]
  },
  {
   "cell_type": "markdown",
   "metadata": {},
   "source": [
    "## Model 2: Decision Tree Regression"
   ]
  },
  {
   "cell_type": "code",
   "execution_count": 53,
   "metadata": {},
   "outputs": [
    {
     "name": "stdout",
     "output_type": "stream",
     "text": [
      "Decision tree model score: -0.05212163903138589\n"
     ]
    }
   ],
   "source": [
    "decision_tree = DecisionTreeRegressor( random_state = 42 )\n",
    "decision_tree.fit( xtrain, ytrain )\n",
    "\n",
    "with open('decision_tree.model', 'wb') as f:\n",
    "\tpickle.dump( decision_tree, f )\n",
    "\n",
    "loaded_model = pickle.load( open('decision_tree.model', 'rb') )\n",
    "score_dt = loaded_model.score( xtest, ytest )\n",
    "print(\"Decision tree model score:\", score_dt )"
   ]
  },
  {
   "cell_type": "markdown",
   "metadata": {},
   "source": [
    "## Model 3: Random Forest Regression"
   ]
  },
  {
   "cell_type": "code",
   "execution_count": 54,
   "metadata": {},
   "outputs": [
    {
     "name": "stdout",
     "output_type": "stream",
     "text": [
      "Random forest model score: 0.459875262346524\n"
     ]
    }
   ],
   "source": [
    "random_forest = RandomForestRegressor( n_estimators = 100, n_jobs = -1, random_state = 42 )\n",
    "random_forest.fit( xtrain, ytrain )\n",
    "\n",
    "with open('random_forest.model', 'wb') as f:\n",
    "\tpickle.dump( random_forest, f )\n",
    "\n",
    "loaded_model = pickle.load( open('random_forest.model', 'rb') )\n",
    "score_rf = loaded_model.score( xtest, ytest )\n",
    "print(\"Random forest model score:\", score_rf )"
   ]
  },
  {
   "cell_type": "markdown",
   "metadata": {},
   "source": [
    "## Model 4: Gradient Boosting Regression"
   ]
  },
  {
   "cell_type": "code",
   "execution_count": 55,
   "metadata": {},
   "outputs": [
    {
     "name": "stdout",
     "output_type": "stream",
     "text": [
      "Gradient regression model score: 0.43206115878759843\n"
     ]
    }
   ],
   "source": [
    "gradient_regression = HistGradientBoostingRegressor( max_iter = 200, random_state=42 )\n",
    "gradient_regression.fit( xtrain, ytrain)\n",
    "\n",
    "with open('gradient_regression.model', 'wb') as f:\n",
    "\tpickle.dump( gradient_regression, f )\n",
    "\n",
    "loaded_model = pickle.load( open('gradient_regression.model', 'rb') )\n",
    "score_gb = loaded_model.score( xtest, ytest )\n",
    "print(\"Gradient regression model score:\", score_gb )"
   ]
  },
  {
   "cell_type": "markdown",
   "metadata": {},
   "source": [
    "## Model 5: Bagging Regression"
   ]
  },
  {
   "cell_type": "code",
   "execution_count": 56,
   "metadata": {},
   "outputs": [
    {
     "name": "stdout",
     "output_type": "stream",
     "text": [
      "Bagging Regression model score: 0.45917831395013287\n"
     ]
    }
   ],
   "source": [
    "bagging_regression = BaggingRegressor( n_estimators=100, n_jobs = -1, random_state=42 )\n",
    "bagging_regression.fit( xtrain, ytrain)\n",
    "\n",
    "with open('bagging_regression.model', 'wb') as f:\n",
    "    pickle.dump ( bagging_regression, f)\n",
    "\n",
    "loaded_model = pickle.load( open('bagging_regression.model', 'rb') )\n",
    "score_bag = loaded_model.score( xtest, ytest )\n",
    "print(\"Bagging Regression model score:\", score_bag )"
   ]
  },
  {
   "cell_type": "markdown",
   "metadata": {},
   "source": [
    "## Output"
   ]
  },
  {
   "cell_type": "code",
   "execution_count": 57,
   "metadata": {},
   "outputs": [
    {
     "data": {
      "image/png": "[encoded data removed]",
      "text/plain": [
       "<Figure size 700x300 with 1 Axes>"
      ]
     },
     "metadata": {},
     "output_type": "display_data"
    }
   ],
   "source": [
    "import matplotlib.pyplot as plot\n",
    "\n",
    "scores = {\n",
    "\t'Linear': score_linear,\n",
    "\t'Decision Tree': score_dt,\n",
    "\t'Random Forest': score_rf,\n",
    "\t'Gradient Boosting': score_gb,\n",
    "\t'Bagging': score_bag\n",
    "}\n",
    "\n",
    "plot.figure( figsize = (7, 3) )\n",
    "plot.bar( scores.keys(), scores.values() )\n",
    "\n",
    "plot.title(\"Models' R² Scores\")\n",
    "plot.ylabel(\"R² Score\")\n",
    "plot.ylim( 0, 0.6 )\n",
    "plot.grid( axis = 'y', linestyle = '--', alpha = 0.5 )\n",
    "\n",
    "for i, ( model, score ) in enumerate( scores.items() ):\n",
    "\tplot.text( i, score + 0.001, f\"{score:.4f}\", ha = 'center', fontsize = 14 )\n",
    "\n",
    "plot.tight_layout()\n",
    "plot.show()"
   ]
  }
 ],
 "metadata": {
  "kernelspec": {
   "display_name": "Python 3",
   "language": "python",
   "name": "python3"
  },
  "language_info": {
   "codemirror_mode": {
    "name": "ipython",
    "version": 3
   },
   "file_extension": ".py",
   "mimetype": "text/x-python",
   "name": "python",
   "nbconvert_exporter": "python",
   "pygments_lexer": "ipython3",
   "version": "3.12.8"
  }
 },
 "nbformat": 4,
 "nbformat_minor": 2
}
