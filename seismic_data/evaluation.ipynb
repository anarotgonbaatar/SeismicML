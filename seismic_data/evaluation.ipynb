from sklearn.metrics import mean_absolute_error, mean_squared_error, r2_score, mean_absolute_percentage_error
import numpy
import matplotlib.pyplot as plot
import seaborn
import pandas

# Store predictions for comparison
models = {
    "Linear": linear,
    "Decision Tree": decision_tree,
    "Random Forest": random_forest,
    "Gradient Boosting": gradient_regression,
    "Bagging": bagging_regression
}

metrics = {
    "R²": [],
    "MAE": [],
    "MSE": [],
    "RMSE": [],
    "MAPE": []
}

for name, model in models.items():
    y_pred = model.predict( xtest )
    metrics["R²"].append( r2_score( ytest, y_pred ))
    metrics["MAE"].append( mean_absolute_error( ytest, y_pred ))
    metrics["MSE"].append( mean_squared_error( ytest, y_pred ))
    metrics["RMSE"].append( np.sqrt( mean_squared_error( ytest, y_pred )))
    metrics["MAPE"].append( mean_absolute_percentage_error( ytest, y_pred ))

results_df = pd.DataFrame( metrics, index=models.keys() )
results_df = results_df.round( 4 )
display( results_df )

# Visualizations
