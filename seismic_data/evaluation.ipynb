{
 "cells": [
  {
   "cell_type": "markdown",
   "id": "19d59271",
   "metadata": {},
   "source": [
    "# Evaluation and Analysis\n",
    "- Apply 4 or more performance metrics to analyze the results\n",
    "- Include 3 or more visualization techniques for presenting the results\n",
    "- Compare and analyze all the ML models that you have built for the project and present the performance analysis"
   ]
  },
  {
   "cell_type": "markdown",
   "id": "1b4b63e4",
   "metadata": {},
   "source": [
    "## Setup"
   ]
  },
  {
   "cell_type": "code",
   "execution_count": 17,
   "id": "a638b4fa",
   "metadata": {},
   "outputs": [
    {
     "name": "stdout",
     "output_type": "stream",
     "text": [
      "Dataset read.\n",
      "Features saved.\n",
      "Data split.\n"
     ]
    }
   ],
   "source": [
    "# Libraries\n",
    "from sklearn.metrics import mean_absolute_error, mean_squared_error, r2_score, mean_absolute_percentage_error\n",
    "import numpy\n",
    "import matplotlib.pyplot as plot\n",
    "import seaborn\n",
    "import pandas\n",
    "import pickle\n",
    "from sklearn.model_selection import train_test_split\n",
    "from sklearn.linear_model import LinearRegression\n",
    "from sklearn.tree import DecisionTreeRegressor\n",
    "from sklearn.ensemble import RandomForestRegressor\n",
    "from sklearn.ensemble import HistGradientBoostingRegressor\n",
    "from sklearn.ensemble import BaggingRegressor\n",
    "from xgboost import XGBRegressor\n",
    "\n",
    "# Load preprocessed data\n",
    "data = pandas.read_csv('preprocessed_data.csv')\n",
    "print(\"Dataset read.\")\n",
    "\n",
    "# Input features and target\n",
    "x = data[[ \t'latitude', 'longitude', # Location\n",
    "\t\t  \t'year', 'month', 'day', 'hour', # Time; Removing 'minute' increased scores slightly\n",
    "\t\t\t'nst', 'gap', 'dmin',\n",
    "\t\t\t'rms', 'horizontalError', 'depthError', 'magNst' # Quality\n",
    "\t\t]]\n",
    "y = data[ 'mag' ]\n",
    "print(\"Features saved.\")\n",
    "\n",
    "# Split inot training and testing datasets\n",
    "xtrain, xtest, ytrain, ytest = train_test_split( x, y, test_size = 0.2, random_state = 42 )\n",
    "print(\"Data split.\")"
   ]
  },
  {
   "cell_type": "markdown",
   "id": "09b30b4c",
   "metadata": {},
   "source": [
    "## ML Models"
   ]
  },
  {
   "cell_type": "code",
   "execution_count": 18,
   "id": "53506ba7",
   "metadata": {},
   "outputs": [
    {
     "name": "stdout",
     "output_type": "stream",
     "text": [
      "Linear model score: 0.06552262168577538\n"
     ]
    }
   ],
   "source": [
    "# Linear\n",
    "linear = LinearRegression()\n",
    "linear.fit( xtrain, ytrain )\n",
    "\n",
    "with open('linear.model', 'wb') as f:\n",
    "\tpickle.dump( linear, f )\n",
    "\n",
    "loaded_model = pickle.load( open('linear.model', 'rb') )\n",
    "score_linear = loaded_model.score( xtest, ytest )\n",
    "print(\"Linear model score:\", score_linear )"
   ]
  },
  {
   "cell_type": "code",
   "execution_count": 19,
   "id": "cf268221",
   "metadata": {},
   "outputs": [
    {
     "name": "stdout",
     "output_type": "stream",
     "text": [
      "Decision tree model score: -0.05212163903138589\n"
     ]
    }
   ],
   "source": [
    "# Decision Tree\n",
    "decision_tree = DecisionTreeRegressor( random_state = 42 )\n",
    "decision_tree.fit( xtrain, ytrain )\n",
    "\n",
    "with open('decision_tree.model', 'wb') as f:\n",
    "\tpickle.dump( decision_tree, f )\n",
    "\n",
    "loaded_model = pickle.load( open('decision_tree.model', 'rb') )\n",
    "score_dt = loaded_model.score( xtest, ytest )\n",
    "print(\"Decision tree model score:\", score_dt )"
   ]
  },
  {
   "cell_type": "code",
   "execution_count": 20,
   "id": "709c87ec",
   "metadata": {},
   "outputs": [
    {
     "name": "stdout",
     "output_type": "stream",
     "text": [
      "Random forest model score: 0.45987526234652387\n"
     ]
    }
   ],
   "source": [
    "# Random Forest\n",
    "random_forest = RandomForestRegressor( n_estimators = 100, n_jobs = -1, random_state = 42 )\n",
    "random_forest.fit( xtrain, ytrain )\n",
    "\n",
    "with open('random_forest.model', 'wb') as f:\n",
    "\tpickle.dump( random_forest, f )\n",
    "\n",
    "loaded_model = pickle.load( open('random_forest.model', 'rb') )\n",
    "score_rf = loaded_model.score( xtest, ytest )\n",
    "print(\"Random forest model score:\", score_rf )"
   ]
  },
  {
   "cell_type": "code",
   "execution_count": 21,
   "id": "14b6c776",
   "metadata": {},
   "outputs": [
    {
     "name": "stdout",
     "output_type": "stream",
     "text": [
      "Gradient regression model score: 0.43206115878759843\n"
     ]
    }
   ],
   "source": [
    "# Gradient Boosting\n",
    "gradient_regression = HistGradientBoostingRegressor( max_iter = 200, random_state=42 )\n",
    "gradient_regression.fit( xtrain, ytrain)\n",
    "\n",
    "with open('gradient_regression.model', 'wb') as f:\n",
    "\tpickle.dump( gradient_regression, f )\n",
    "\n",
    "loaded_model = pickle.load( open('gradient_regression.model', 'rb') )\n",
    "score_gb = loaded_model.score( xtest, ytest )\n",
    "print(\"Gradient regression model score:\", score_gb )"
   ]
  },
  {
   "cell_type": "code",
   "execution_count": null,
   "id": "5f751eea",
   "metadata": {},
   "outputs": [],
   "source": [
    "# Bagging\n",
    "bagging_regression = BaggingRegressor( n_estimators=100, n_jobs = -1, random_state=42 )\n",
    "bagging_regression.fit( xtrain, ytrain)\n",
    "\n",
    "with open('bagging_regression.model', 'wb') as f:\n",
    "    pickle.dump ( bagging_regression, f)\n",
    "\n",
    "loaded_model = pickle.load( open('bagging_regression.model', 'rb') )\n",
    "score_bag = loaded_model.score( xtest, ytest )\n",
    "print(\"Bagging Regression model score:\", score_bag )"
   ]
  },
  {
   "cell_type": "code",
   "execution_count": null,
   "id": "3999ff39",
   "metadata": {},
   "outputs": [
    {
     "name": "stdout",
     "output_type": "stream",
     "text": [
      "XGBoost model score: 0.412589720125651\n"
     ]
    }
   ],
   "source": [
    "# XGBoost\n",
    "xgb = XGBRegressor(\n",
    "    n_estimators = 200,\n",
    "    learning_rate = 0.05,\n",
    "    max_depth = 6,\n",
    "    subsample = 0.8,\n",
    "    colsample_bytree = 0.8,\n",
    "    n_jobs = -1,\n",
    "    random_state = 42\n",
    ")\n",
    "xgb.fit( xtrain, ytrain )\n",
    "\n",
    "with open('xgboost.model', 'wb') as f:\n",
    "    pickle.dump( xgb, f )\n",
    "\n",
    "loaded_model = pickle.load( open( 'xgboost.model', 'rb' ))\n",
    "score_xgb = loaded_model.score( xtest, ytest )\n",
    "print(\"XGBoost model score:\", score_xgb )"
   ]
  },
  {
   "cell_type": "markdown",
   "id": "487cdd35",
   "metadata": {},
   "source": [
    "## Evaluation"
   ]
  },
  {
   "cell_type": "code",
   "execution_count": null,
   "id": "703cc939",
   "metadata": {},
   "outputs": [],
   "source": [
    "# Store predictions for comparison\n",
    "models = {\n",
    "    \"Linear\": score_linear,\n",
    "    \"Decision Tree\": score_dt,\n",
    "    \"Random Forest\": score_rf,\n",
    "    \"Gradient Boosting\": score_gb,\n",
    "    \"Bagging\": score_bag,\n",
    "    \"XGBoost\": score_xgb\n",
    "}\n",
    "\n",
    "metrics = {\n",
    "    \"R²\": [],\n",
    "    \"MAE\": [],\n",
    "    \"MSE\": [],\n",
    "    \"RMSE\": [],\n",
    "    \"MAPE\": []\n",
    "}\n",
    "\n",
    "for name, model in models.items():\n",
    "    y_pred = model.predict( xtest )\n",
    "    metrics[\"R²\"].append( r2_score( ytest, y_pred ))\n",
    "    metrics[\"MAE\"].append( mean_absolute_error( ytest, y_pred ))\n",
    "    metrics[\"MSE\"].append( mean_squared_error( ytest, y_pred ))\n",
    "    metrics[\"RMSE\"].append( numpy.sqrt( mean_squared_error( ytest, y_pred )))\n",
    "    metrics[\"MAPE\"].append( mean_absolute_percentage_error( ytest, y_pred ))\n",
    "\n",
    "results_df = pandas.DataFrame( metrics, index=models.keys() )\n",
    "results_df = results_df.round( 4 )\n",
    "display( results_df )\n",
    "\n",
    "# Visualizations\n",
    "# Heatmap of metrics\n",
    "\n",
    "# Bar plot of R2 scores\n",
    "\n",
    "# MAE and RMSE comparison\n"
   ]
  }
 ],
 "metadata": {
  "kernelspec": {
   "display_name": "Python 3",
   "language": "python",
   "name": "python3"
  },
  "language_info": {
   "codemirror_mode": {
    "name": "ipython",
    "version": 3
   },
   "file_extension": ".py",
   "mimetype": "text/x-python",
   "name": "python",
   "nbconvert_exporter": "python",
   "pygments_lexer": "ipython3",
   "version": "3.12.8"
  }
 },
 "nbformat": 4,
 "nbformat_minor": 5
}
