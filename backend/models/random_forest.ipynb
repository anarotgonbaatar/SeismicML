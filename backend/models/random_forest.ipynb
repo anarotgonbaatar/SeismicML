{
 "cells": [
  {
   "cell_type": "code",
   "execution_count": 2,
   "id": "b0823784",
   "metadata": {},
   "outputs": [
    {
     "name": "stdout",
     "output_type": "stream",
     "text": [
      "Dataset read.\n",
      "Features saved.\n",
      "Data split.\n"
     ]
    }
   ],
   "source": [
    "# Libraries\n",
    "import pandas\n",
    "import pickle\n",
    "from sklearn.model_selection import train_test_split\n",
    "from sklearn.ensemble import RandomForestRegressor\n",
    "from sklearn.model_selection import GridSearchCV\n",
    "\n",
    "# Load preprocessed data\n",
    "data = pandas.read_csv(\"augmented_data.csv\")\n",
    "print(\"Dataset read.\")\n",
    "\n",
    "# Input features and target\n",
    "x = data[[ \t'latitude', 'longitude', # Location\n",
    "\t\t  \t'year', 'month', 'day', 'hour', # Time; Removing 'minute' increased scores slightly\n",
    "\t\t\t'nst', 'gap', 'dmin',\n",
    "\t\t\t'rms', 'horizontalError', 'depthError', 'magNst' # Quality\n",
    "\t\t]]\n",
    "y = data[ 'mag' ]\n",
    "print(\"Features saved.\")\n",
    "\n",
    "# Split inot training and testing datasets\n",
    "xtrain, xtest, ytrain, ytest = train_test_split( x, y, test_size = 0.2, random_state = 42 )\n",
    "print(\"Data split.\")\n",
    "\n",
    "real_xtest = xtest[ ytest > 0 ]\n",
    "real_ytest = ytest[ ytest > 0 ]"
   ]
  },
  {
   "cell_type": "code",
   "execution_count": 3,
   "id": "8f5ed743",
   "metadata": {},
   "outputs": [
    {
     "name": "stdout",
     "output_type": "stream",
     "text": [
      "Fitting 3 folds for each of 48 candidates, totalling 144 fits\n",
      "✅ Best Parameters: {'max_depth': 20, 'max_features': 'sqrt', 'min_samples_leaf': 1, 'min_samples_split': 2, 'n_estimators': 200}\n",
      "🎯 Real quake R² score (tuned): 0.466028595335911\n"
     ]
    }
   ],
   "source": [
    "# Focus only on real quake data for tuning\n",
    "real_xtune = xtrain[ytrain > 0]\n",
    "real_ytune = ytrain[ytrain > 0]\n",
    "\n",
    "# Param grid to search\n",
    "param_grid = {\n",
    "    'n_estimators': [100, 200],\n",
    "    'max_depth': [10, 15, 20],\n",
    "    'min_samples_split': [2, 5],\n",
    "    'min_samples_leaf': [1, 3],\n",
    "    'max_features': ['sqrt', 'log2']\n",
    "}\n",
    "\n",
    "# Grid search setup\n",
    "grid = GridSearchCV(\n",
    "    estimator=RandomForestRegressor(random_state=42, n_jobs=-1),\n",
    "    param_grid=param_grid,\n",
    "    scoring='r2',\n",
    "    cv=3,\n",
    "    verbose=1,\n",
    "    n_jobs=-1\n",
    ")\n",
    "\n",
    "# Run grid search on real-quake training data\n",
    "grid.fit(real_xtune, real_ytune)\n",
    "\n",
    "# Best model\n",
    "best_rf = grid.best_estimator_\n",
    "print(\"✅ Best Parameters:\", grid.best_params_)\n",
    "\n",
    "# Evaluate on real test set\n",
    "real_xtest = xtest[ytest > 0]\n",
    "real_ytest = ytest[ytest > 0]\n",
    "real_score = best_rf.score(real_xtest, real_ytest)\n",
    "print(\"🎯 Real quake R² score (tuned):\", real_score)"
   ]
  },
  {
   "cell_type": "code",
   "execution_count": 4,
   "id": "1de920a8",
   "metadata": {},
   "outputs": [
    {
     "name": "stdout",
     "output_type": "stream",
     "text": [
      "Real test score: 0.465908868228333\n",
      "Random forest model score: 0.9462657070967342\n"
     ]
    }
   ],
   "source": [
    "# Random Forest\n",
    "random_forest = RandomForestRegressor(\n",
    "\tn_estimators = 200,\n",
    "\tmax_depth = 20,\n",
    "\tmax_features = 'sqrt',\n",
    "\tmin_samples_leaf = 1,\n",
    "\tmin_samples_split = 2,\n",
    "\tn_jobs = -1,\n",
    "\trandom_state = 42,\n",
    ")\n",
    "random_forest.fit( xtrain, ytrain )\n",
    "\n",
    "with open('random_forest.model', 'wb') as f:\n",
    "\tpickle.dump( random_forest, f )\n",
    "\n",
    "random_forest_model = pickle.load( open('random_forest.model', 'rb') )\n",
    "score_rf = random_forest_model.score( xtest, ytest )\n",
    "real_score_rf = random_forest_model.score( real_xtest, real_ytest )\n",
    "print(\"Real test score:\", real_score_rf )\n",
    "print(\"Random forest model score:\", score_rf )"
   ]
  }
 ],
 "metadata": {
  "kernelspec": {
   "display_name": "Python 3",
   "language": "python",
   "name": "python3"
  },
  "language_info": {
   "codemirror_mode": {
    "name": "ipython",
    "version": 3
   },
   "file_extension": ".py",
   "mimetype": "text/x-python",
   "name": "python",
   "nbconvert_exporter": "python",
   "pygments_lexer": "ipython3",
   "version": "3.12.8"
  }
 },
 "nbformat": 4,
 "nbformat_minor": 5
}
